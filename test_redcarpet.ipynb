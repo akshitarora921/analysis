{
 "cells": [
  {
   "cell_type": "code",
   "execution_count": null,
   "metadata": {},
   "outputs": [],
   "source": [
    "import project\n",
    "\n",
    "\n",
    "def test_gr_per_cal():\n",
    "    gr_per = project.gr_per_cal(10,5)\n",
    "    assert gr_per== 100\n",
    "    \n",
    "\n",
    "def test_pos_neg_tag ():\n",
    "    growth_per=[10,-1,55,-66]\n",
    "    a= project.pos_neg_tag(growth_per)\n",
    "    assert a ==[1,0,1,0]"
   ]
  }
 ],
 "metadata": {
  "kernelspec": {
   "display_name": "Python 3",
   "language": "python",
   "name": "python3"
  },
  "language_info": {
   "codemirror_mode": {
    "name": "ipython",
    "version": 3
   },
   "file_extension": ".py",
   "mimetype": "text/x-python",
   "name": "python",
   "nbconvert_exporter": "python",
   "pygments_lexer": "ipython3",
   "version": "3.6.4"
  }
 },
 "nbformat": 4,
 "nbformat_minor": 2
}
